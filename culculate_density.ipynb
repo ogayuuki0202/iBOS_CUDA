{
 "cells": [
  {
   "cell_type": "markdown",
   "metadata": {},
   "source": [
    "# ライブラリ"
   ]
  },
  {
   "cell_type": "code",
   "execution_count": 2,
   "metadata": {},
   "outputs": [],
   "source": [
    "import numpy as np\n",
    "import csv\n",
    "import torch     \n",
    "import pandas as pd\n",
    "import math\n",
    "import pprint\n",
    "from mpl_toolkits.mplot3d import Axes3D\n",
    "import matplotlib.pyplot as plt\n",
    "import matplotlib.cm as cm\n",
    "\n",
    "from tqdm import trange\n",
    "from tqdm.contrib import tzip,tqdm,tenumerate\n",
    "#from tqdm.notebook import tqdm\n",
    "from IPython.display import display\n",
    "\n",
    "\n",
    "from collections import OrderedDict\n",
    "\n",
    "device=torch.device('cuda' if torch.cuda.is_available() else 'cpu')"
   ]
  },
  {
   "cell_type": "code",
   "execution_count": 3,
   "metadata": {},
   "outputs": [],
   "source": [
    "output_path=\"density_3d_arrray/density_2410_quarter_highresidual.pt\"\n",
    "output_csv_path=\"output2410_b200.csv\""
   ]
  },
  {
   "cell_type": "code",
   "execution_count": 4,
   "metadata": {},
   "outputs": [],
   "source": [
    "config=\"config/config0703_nozzle\"#.csv\n",
    "\n",
    "#処理タスクリストを取得\n",
    "df_config=pd.read_csv(\"{}.csv\".format(str(config)))\n",
    "df_config=df_config.set_index(\"experiment\")\n",
    "df_config=df_config[df_config[\"process_flag\"]==1]#処理タスクリストから処理フラグ有効のみを残す"
   ]
  },
  {
   "cell_type": "markdown",
   "metadata": {},
   "source": [
    "# ラプラシアンを計算"
   ]
  },
  {
   "cell_type": "code",
   "execution_count": 5,
   "metadata": {},
   "outputs": [
    {
     "name": "stdout",
     "output_type": "stream",
     "text": [
      "(557, 371, 371)\n",
      "[[[0. 0. 0. ... 0. 0. 0.]\n",
      "  [0. 0. 0. ... 0. 0. 0.]\n",
      "  [0. 0. 0. ... 0. 0. 0.]\n",
      "  ...\n",
      "  [0. 0. 0. ... 0. 0. 0.]\n",
      "  [0. 0. 0. ... 0. 0. 0.]\n",
      "  [0. 0. 0. ... 0. 0. 0.]]\n",
      "\n",
      " [[0. 0. 0. ... 0. 0. 0.]\n",
      "  [0. 0. 0. ... 0. 0. 0.]\n",
      "  [0. 0. 0. ... 0. 0. 0.]\n",
      "  ...\n",
      "  [0. 0. 0. ... 0. 0. 0.]\n",
      "  [0. 0. 0. ... 0. 0. 0.]\n",
      "  [0. 0. 0. ... 0. 0. 0.]]\n",
      "\n",
      " [[0. 0. 0. ... 0. 0. 0.]\n",
      "  [0. 0. 0. ... 0. 0. 0.]\n",
      "  [0. 0. 0. ... 0. 0. 0.]\n",
      "  ...\n",
      "  [0. 0. 0. ... 0. 0. 0.]\n",
      "  [0. 0. 0. ... 0. 0. 0.]\n",
      "  [0. 0. 0. ... 0. 0. 0.]]\n",
      "\n",
      " ...\n",
      "\n",
      " [[0. 0. 0. ... 0. 0. 0.]\n",
      "  [0. 0. 0. ... 0. 0. 0.]\n",
      "  [0. 0. 0. ... 0. 0. 0.]\n",
      "  ...\n",
      "  [0. 0. 0. ... 0. 0. 0.]\n",
      "  [0. 0. 0. ... 0. 0. 0.]\n",
      "  [0. 0. 0. ... 0. 0. 0.]]\n",
      "\n",
      " [[0. 0. 0. ... 0. 0. 0.]\n",
      "  [0. 0. 0. ... 0. 0. 0.]\n",
      "  [0. 0. 0. ... 0. 0. 0.]\n",
      "  ...\n",
      "  [0. 0. 0. ... 0. 0. 0.]\n",
      "  [0. 0. 0. ... 0. 0. 0.]\n",
      "  [0. 0. 0. ... 0. 0. 0.]]\n",
      "\n",
      " [[0. 0. 0. ... 0. 0. 0.]\n",
      "  [0. 0. 0. ... 0. 0. 0.]\n",
      "  [0. 0. 0. ... 0. 0. 0.]\n",
      "  ...\n",
      "  [0. 0. 0. ... 0. 0. 0.]\n",
      "  [0. 0. 0. ... 0. 0. 0.]\n",
      "  [0. 0. 0. ... 0. 0. 0.]]]\n"
     ]
    }
   ],
   "source": [
    "path=\"reconstructed/reconstructed2410_res9.npy\"\n",
    "array_nabura=np.load(path)\n",
    "print(array_nabura.shape)\n",
    "print(array_nabura)"
   ]
  },
  {
   "cell_type": "code",
   "execution_count": 6,
   "metadata": {},
   "outputs": [
    {
     "name": "stderr",
     "output_type": "stream",
     "text": [
      "100%|██████████| 6/6 [00:00<00:00, 18.45it/s]\n"
     ]
    }
   ],
   "source": [
    "def compute_laplacian_chunk(array_chunk):\n",
    "    grad_yy = np.gradient(array_chunk, axis=1)\n",
    "    grad_zz = np.gradient(array_chunk, axis=2)\n",
    "    laplacian_chunk = grad_yy + grad_zz\n",
    "    return laplacian_chunk\n",
    "\n",
    "def compute_laplacian_in_chunks(array, chunk_size):\n",
    "    # 配列の形状を取得\n",
    "    shape = array.shape\n",
    "    \n",
    "    # 結果を保存する配列を作成\n",
    "    laplacian = np.zeros_like(array)\n",
    "    \n",
    "    # チャンクごとに処理\n",
    "    for i in trange(0, shape[0], chunk_size):\n",
    "        for j in range(0, shape[1], chunk_size):\n",
    "            for k in range(0, shape[2], chunk_size):\n",
    "                # チャンクを抽出\n",
    "                chunk = array[i:i+chunk_size, j:j+chunk_size, k:k+chunk_size]\n",
    "                \n",
    "                # チャンクでラプラシアンを計算\n",
    "                laplacian_chunk = compute_laplacian_chunk(chunk)\n",
    "                \n",
    "                # 計算結果を元の配列の対応する位置に保存\n",
    "                laplacian[i:i+chunk_size, j:j+chunk_size, k:k+chunk_size] = laplacian_chunk\n",
    "    \n",
    "    return laplacian\n",
    "\n",
    "# チャンクサイズを指定して計算\n",
    "chunk_size = 100\n",
    "array_laplacian = compute_laplacian_in_chunks(array_nabura, chunk_size)\n"
   ]
  },
  {
   "cell_type": "markdown",
   "metadata": {},
   "source": [
    "# データローダーをつくる"
   ]
  },
  {
   "cell_type": "code",
   "execution_count": 7,
   "metadata": {},
   "outputs": [],
   "source": [
    "batch_size=1#ミニバッチのサイズを指定\n",
    "array_laplacian_dataloarder=torch.utils.data.DataLoader(torch.tensor(array_laplacian).to(device),batch_size=batch_size,shuffle=False)#シャッフルは切っておく"
   ]
  },
  {
   "cell_type": "markdown",
   "metadata": {},
   "source": [
    "# SOR法"
   ]
  },
  {
   "cell_type": "code",
   "execution_count": 8,
   "metadata": {},
   "outputs": [],
   "source": [
    "Lx=array_laplacian.shape[0]\n",
    "Ly=array_laplacian.shape[1]\n",
    "Lz=array_laplacian.shape[2]\n",
    "x  = Lx\n",
    "y  = Ly\n",
    "z  = Lz"
   ]
  },
  {
   "cell_type": "code",
   "execution_count": 1,
   "metadata": {},
   "outputs": [
    {
     "data": {
      "application/vnd.jupyter.widget-view+json": {
       "model_id": "b7ff85cd911c4f1586e7d82c4fe15582",
       "version_major": 2,
       "version_minor": 0
      },
      "text/plain": [
       "  0%|          | 0/557 [00:00<?, ?it/s]"
      ]
     },
     "metadata": {},
     "output_type": "display_data"
    },
    {
     "name": "stdout",
     "output_type": "stream",
     "text": [
      " Iteration: 1921, Loss: 4.487446858547628e-09, Stable Count: 009"
     ]
    }
   ],
   "source": [
    "e = 1e-9\n",
    "tolerance = 1e-24\n",
    "max_stable_iters = 1000000\n",
    "\n",
    "# メイン\n",
    "delta = 1.0\n",
    "n_iter = 0\n",
    "stable_count = 0\n",
    "prev_delta = float('inf')\n",
    "u_list = []\n",
    "omega_SOR=1.0\n",
    "\n",
    "# tqdmのインスタンスを一番上に表示\n",
    "#progress_bar = tqdm(total=len(array_laplacian_dataloarder))\n",
    "#display(progress_bar.container)\n",
    "\n",
    "\n",
    "# 全バッチの結果を保存するリスト\n",
    "all_batch_results = []\n",
    "\n",
    "\n",
    "for batch_idx, batch in tenumerate(array_laplacian_dataloarder):\n",
    "    slice_laplacian = batch.to(device)  # バッチデータをデバイスに移動\n",
    "    batch_size, Ly, Lz = slice_laplacian.size()\n",
    "    u = torch.zeros([batch_size, Ly, Lz], device=device)  # uを同じデバイスで作成\n",
    "    delta = 1.0\n",
    "    n_iter = 0\n",
    "    stable_count = 0  # 安定回数のカウンタをリセット\n",
    "\n",
    "    # グラフ用のリストを初期化\n",
    "    loss_list = []\n",
    "    u_max_list = []\n",
    "    u_min_list = []\n",
    "    iter_list=[]\n",
    "    max_iterations =0\n",
    "\n",
    "    while delta > e and stable_count < max_stable_iters:\n",
    "        u_in = u.clone()\n",
    "        u[:, 1:-1, 1:-1] =  u[:, 1:-1, 1:-1]+ omega_SOR*((u_in[:, 2:, 1:-1] + u_in[:, :-2, 1:-1] +\n",
    "                            u_in[:, 1:-1, 2:] + u_in[:, 1:-1, :-2] + slice_laplacian[:, 1:-1, 1:-1]) / 4- u[:, 1:-1, 1:-1])\n",
    "        \n",
    "        u[:, 0, :] = 0\n",
    "        u[:, Ly-1, :] = 0\n",
    "        u[:, :, 0] = 0\n",
    "        u[:, :, Lz-1] = 0\n",
    "        delta = torch.max(torch.abs(u - u_in))\n",
    "        \n",
    "        # 残差の変化をチェック\n",
    "        if abs(delta - prev_delta) < tolerance:\n",
    "            stable_count += 1\n",
    "        else:\n",
    "            stable_count = 0\n",
    "\n",
    "        prev_delta = delta\n",
    "\n",
    "        print(\"\\r\",f'Iteration: {n_iter}, Loss: {delta}, Stable Count: {stable_count}',end=\"\")\n",
    "        # イテレーションごとのmaxとminを記録\n",
    "        u_max = torch.max(u).item()\n",
    "        u_min = torch.min(u).item()\n",
    "        loss_list.append(delta.cpu().float().item())\n",
    "        u_max_list.append(u_max)\n",
    "        u_min_list.append(u_min)\n",
    "        iter_list.append(n_iter)\n",
    "\n",
    "        n_iter += 1\n",
    "\n",
    "    # バッチごとの結果を保存\n",
    "    all_batch_results.append((batch_idx + 1, loss_list, u_max_list, u_min_list,iter_list))\n",
    "\n",
    "    \n",
    "    #progress_bar.update(1)\n",
    "    u_list.append(u)\n",
    "\n",
    "u_tensor = torch.cat(u_list, dim=0)  # 最終的な出力をリストからテンソルに変換\n"
   ]
  },
  {
   "cell_type": "code",
   "execution_count": 9,
   "metadata": {},
   "outputs": [],
   "source": [
    "import csv\n",
    "# CSVファイルに保存\n",
    "with open(output_csv_path, 'w', newline='') as file:\n",
    "    writer = csv.writer(file)\n",
    "    writer.writerows(all_batch_results)"
   ]
  },
  {
   "cell_type": "code",
   "execution_count": 10,
   "metadata": {},
   "outputs": [],
   "source": [
    "for batch_idx, iter_list, u_max_list, u_min_list in all_batch_results:\n",
    "    fig, ax = plt.subplots(figsize=(10, 5))\n",
    "    \n",
    "\n",
    "    iter_list_cpu_filtered = [x for x in iter_list if x > 0]\n",
    "    u_max_list_filtered = [u_max_list[i] for i in range(len(iter_list)) if iter_list[i] > 0]\n",
    "    u_min_list_filtered = [u_min_list[i] for i in range(len(iter_list)) if iter_list[i] > 0]\n",
    "\n",
    "\n",
    "    # 点をプロット\n",
    "    ax.scatter(iter_list_cpu_filtered, u_max_list_filtered, label='Max Value', color='r')\n",
    "    ax.scatter(iter_list_cpu_filtered, u_min_list_filtered, label='Min Value', color='b')\n",
    "    \n",
    "    ax.set_xlim(max(iter_list_cpu_filtered), min(iter_list_cpu_filtered))  # X軸の範囲を逆に設定して反転\n",
    "    ax.set_xscale('log')  # X軸を対数スケールに設定\n",
    "    ax.set_xlabel('residual (Log Scale)')\n",
    "    ax.set_ylabel('Max/Min refractive index')\n",
    "    ax.set_title(f'Batch {batch_idx} - Iteration vs Max/Min refractive index')\n",
    "    ax.legend()\n",
    "    ax.grid(True)\n",
    "\n",
    "    plt.tight_layout()\n",
    "    plt.show()"
   ]
  },
  {
   "cell_type": "markdown",
   "metadata": {},
   "source": [
    "# 密度の計算"
   ]
  },
  {
   "cell_type": "code",
   "execution_count": 12,
   "metadata": {},
   "outputs": [],
   "source": [
    "print(u_tensor.shape)"
   ]
  },
  {
   "cell_type": "code",
   "execution_count": 13,
   "metadata": {},
   "outputs": [],
   "source": [
    "exp=df_config.index[0]\n",
    "temperature=df_config[\"temperature(℃)\"][exp]\n",
    "pressure=df_config[\"pressure(hPa)\"][exp]\n",
    "humidity=df_config[\"humidity(%)\"][exp] #湿度\n",
    "density_inf=df_config[\"density_inf\"][exp]\n",
    "\n",
    "n_inf=1.0003\n",
    "G=(n_inf-1)/density_inf#Gladstone-Dale Relation\n",
    "print(G)"
   ]
  },
  {
   "cell_type": "code",
   "execution_count": 14,
   "metadata": {},
   "outputs": [],
   "source": [
    "d_density=-u_tensor/G\n",
    "density=d_density+density_inf\n",
    "print(density)\n",
    "torch.save(density, output_path)"
   ]
  },
  {
   "cell_type": "code",
   "execution_count": 15,
   "metadata": {},
   "outputs": [],
   "source": [
    "middle_index=int((density.shape[1])/2)\n",
    "density_s=density[:,middle_index,:]\n",
    "density_s_wide=np.rot90(np.array(density_s.cpu()),1)\n",
    "print(density_s_wide.shape)\n",
    "\n",
    "def plot_showandsave(array,path,name):\n",
    "    # ヒートマップを作成\n",
    "        fig, ax = plt.subplots(nrows=1, ncols=1, figsize=(9, 6)) # 図の設定\n",
    "        #c = ax.pcolor(array, cmap='binary_r') # ヒートマップ\n",
    "        c = ax.pcolor(array, cmap='binary_r',norm=Normalize(vmin=0, vmax=3)) # ヒートマップ\n",
    "\n",
    "\n",
    "        ax.set_title(name) # タイトル\n",
    "        ax.set_aspect('equal', adjustable='box') # アスペクト比\n",
    "        fig.colorbar(c, ax=ax) # カラーバー\n",
    "        plt.savefig(\"{}\\{}\".format(path,name))#画像の保存\n",
    "        print(\"ヒートマップの保存\")\n",
    "        plt.show() # 図を表示\n",
    "        print(\"ヒートマップの表示\")\n",
    "\n",
    "plot_showandsave(density_s_wide,\"density\",\"densitymap\")"
   ]
  },
  {
   "cell_type": "code",
   "execution_count": 16,
   "metadata": {},
   "outputs": [],
   "source": [
    "density_s"
   ]
  },
  {
   "cell_type": "code",
   "execution_count": 17,
   "metadata": {},
   "outputs": [],
   "source": [
    "plt.hist(density_s.cpu(),density=True)\n",
    "plt.xlim(0,3)\n",
    "plt.show()"
   ]
  }
 ],
 "metadata": {
  "kernelspec": {
   "display_name": "base",
   "language": "python",
   "name": "python3"
  },
  "language_info": {
   "codemirror_mode": {
    "name": "ipython",
    "version": 3
   },
   "file_extension": ".py",
   "mimetype": "text/x-python",
   "name": "python",
   "nbconvert_exporter": "python",
   "pygments_lexer": "ipython3",
   "version": "3.11.9"
  }
 },
 "nbformat": 4,
 "nbformat_minor": 2
}
