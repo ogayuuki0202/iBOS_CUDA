{
 "cells": [
  {
   "cell_type": "markdown",
   "metadata": {},
   "source": [
    "# import"
   ]
  },
  {
   "cell_type": "code",
   "execution_count": 2,
   "metadata": {},
   "outputs": [
    {
     "name": "stdout",
     "output_type": "stream",
     "text": [
      "cuda\n"
     ]
    }
   ],
   "source": [
    "import os\n",
    "import pickle\n",
    "from multiprocessing import Pool\n",
    "\n",
    "import torch                                       # pytorch本体\n",
    "import torch.nn as nn                              # ニューラルネットを構成する際の基本的なモジュールが入っている\n",
    "import torch.optim as optim                        # ニューラルネットを最適化するためのoptimizerが入っている\n",
    "from torchvision import transforms as transforms   # 画像前処理のために使用\n",
    "import torchvision.transforms.functional as TF\n",
    "import torchvision.models as models\n",
    "import torch.nn.functional as F\n",
    "import torch.utils.data\n",
    "from torch.utils.tensorboard import SummaryWriter  # 学習ログのグラフ化のために使用\n",
    "\n",
    "import logging                                     # ニューラルネットの学習ログをとるために使用\n",
    "logger = logging.getLogger(__name__)               # ロガーの初期化\n",
    "\n",
    "from tqdm import tqdm,trange                              # プログレスバーを出すために使用\n",
    "\n",
    "import numpy as np\n",
    "from PIL import Image                              # 画像を取り扱うために使用\n",
    "import matplotlib.pyplot as plt                    # 画像のサンプル表示のために使用\n",
    "import cv2\n",
    "import cupy as cp\n",
    "\n",
    "device=torch.device('cuda' if torch.cuda.is_available() else 'cpu')\n",
    "print(device)"
   ]
  },
  {
   "cell_type": "markdown",
   "metadata": {},
   "source": [
    "# dataのロードとdataloarderの作成"
   ]
  },
  {
   "cell_type": "code",
   "execution_count": 3,
   "metadata": {},
   "outputs": [
    {
     "name": "stdout",
     "output_type": "stream",
     "text": [
      "torch.Size([557, 371, 360])\n"
     ]
    }
   ],
   "source": [
    "#ファイルのロード\n",
    "sinogram_path=\"sinogram/sinogram_2410.npy\"\n",
    "sinogram=np.load(sinogram_path,allow_pickle=True)\n",
    "sinogram_tensor=torch.tensor(sinogram).to(device)#tensor型に直す\n",
    "print(sinogram_tensor.shape)"
   ]
  },
  {
   "cell_type": "code",
   "execution_count": 6,
   "metadata": {},
   "outputs": [],
   "source": [
    "#daaloarderの作成\n",
    "batch_size=600 #ミニバッチのサイズを指定\n",
    "target_dataloarder=torch.utils.data.DataLoader(sinogram_tensor.to(device),batch_size=batch_size,shuffle=False)#シャッフルは切っておく\n",
    "predict_dataloarder=torch.utils.data.DataLoader(torch.zeros_like(sinogram_tensor),batch_size=batch_size,shuffle=False)#シャッフルは切っておく\n",
    "\n",
    "dataloarders_dict={\"target\":target_dataloarder,\"predict\":predict_dataloarder}"
   ]
  },
  {
   "cell_type": "markdown",
   "metadata": {},
   "source": [
    "# モデルとかの定義"
   ]
  },
  {
   "cell_type": "code",
   "execution_count": 7,
   "metadata": {},
   "outputs": [],
   "source": [
    "#モデル\n",
    "class ART(nn.Module):\n",
    "    def __init__(self,sinogram):\n",
    "        super(ART, self).__init__()  # これを追加\n",
    "        self.device=torch.device('cuda' if torch.cuda.is_available() else 'cpu')\n",
    "        self.sinogram=sinogram #[N,Size,Angle]\n",
    "        from torch_radon import Radon,Radon\n",
    "        #ラドン変換の関数の初期化\n",
    "        self.radon_func=Radon(resolution=371, angles=sinogram_tensor[0,0,:], det_count=- 1, det_spacing=1.0, clip_to_circle=False)\n",
    "    \n",
    "    #ラドン変換の関数の定義\n",
    "    def A(self,tomography):\n",
    "        return self.radon_func.forward(tomography)\n",
    "    def AT(self,sinogram):\n",
    "        return self.radon_func.backprojection(sinogram)\n",
    "    \n",
    "    #損失関数の定義\n",
    "    def loss(self,predict,target):\n",
    "        ATA=self.AT(self.A(torch.ones_like(target)))\n",
    "        return torch.divide(self.AT(target - self.A(predict)), ATA)\n",
    "    \n",
    "    def forward(self,target,predict):\n",
    "        loss=self.loss(predict,target)\n",
    "        predict=predict+loss*0.1\n",
    "        return predict,loss\n",
    "\n",
    "# ループの関数\n",
    "def trainer(model, dataloaders_dict, eps=1e-7):\n",
    "    predict_dataloader = dataloaders_dict[\"predict\"]\n",
    "    target_dataloader = dataloaders_dict[\"target\"]\n",
    "\n",
    "    ave_loss = float(\"inf\")\n",
    "    \n",
    "    predicted_list=[]\n",
    "\n",
    "    for predict_batch, target_batch in zip(predict_dataloader, target_dataloader):\n",
    "        predict_batch = predict_batch.to(model.device)\n",
    "        target_batch = target_batch.to(model.device)\n",
    "        iter=0\n",
    "        while ave_loss > eps:\n",
    "            predict_output, loss = model(target_batch, predict_batch)\n",
    "            predict_batch = predict_output  # 予測を更新\n",
    "            ave_loss = torch.mean(torch.abs(loss)).item()\n",
    "            print(f'Iteration: {iter}, Loss: {ave_loss}') \n",
    "            iter+=1\n",
    "        predicted_list.append(np.array(predict_batch.cpu()))\n",
    "    return np.array(predicted_list)"
   ]
  },
  {
   "cell_type": "code",
   "execution_count": 8,
   "metadata": {},
   "outputs": [
    {
     "ename": "AssertionError",
     "evalue": "Input images must be square, got shape (371, 360).",
     "output_type": "error",
     "traceback": [
      "\u001b[0;31m---------------------------------------------------------------------------\u001b[0m",
      "\u001b[0;31mAssertionError\u001b[0m                            Traceback (most recent call last)",
      "Cell \u001b[0;32mIn[8], line 2\u001b[0m\n\u001b[1;32m      1\u001b[0m model\u001b[38;5;241m=\u001b[39mART(sinogram)\u001b[38;5;241m.\u001b[39mto(device)\n\u001b[0;32m----> 2\u001b[0m predicted_array\u001b[38;5;241m=\u001b[39m\u001b[43mtrainer\u001b[49m\u001b[43m(\u001b[49m\u001b[43mmodel\u001b[49m\u001b[43m,\u001b[49m\u001b[43mdataloarders_dict\u001b[49m\u001b[43m,\u001b[49m\u001b[43meps\u001b[49m\u001b[38;5;241;43m=\u001b[39;49m\u001b[38;5;241;43m1e-10\u001b[39;49m\u001b[43m)\u001b[49m\n\u001b[1;32m      3\u001b[0m \u001b[38;5;28mprint\u001b[39m(predicted_array\u001b[38;5;241m.\u001b[39mshape)\n",
      "Cell \u001b[0;32mIn[7], line 41\u001b[0m, in \u001b[0;36mtrainer\u001b[0;34m(model, dataloaders_dict, eps)\u001b[0m\n\u001b[1;32m     39\u001b[0m \u001b[38;5;28miter\u001b[39m\u001b[38;5;241m=\u001b[39m\u001b[38;5;241m0\u001b[39m\n\u001b[1;32m     40\u001b[0m \u001b[38;5;28;01mwhile\u001b[39;00m ave_loss \u001b[38;5;241m>\u001b[39m eps:\n\u001b[0;32m---> 41\u001b[0m     predict_output, loss \u001b[38;5;241m=\u001b[39m \u001b[43mmodel\u001b[49m\u001b[43m(\u001b[49m\u001b[43mtarget_batch\u001b[49m\u001b[43m,\u001b[49m\u001b[43m \u001b[49m\u001b[43mpredict_batch\u001b[49m\u001b[43m)\u001b[49m\n\u001b[1;32m     42\u001b[0m     predict_batch \u001b[38;5;241m=\u001b[39m predict_output  \u001b[38;5;66;03m# 予測を更新\u001b[39;00m\n\u001b[1;32m     43\u001b[0m     ave_loss \u001b[38;5;241m=\u001b[39m torch\u001b[38;5;241m.\u001b[39mmean(torch\u001b[38;5;241m.\u001b[39mabs(loss))\u001b[38;5;241m.\u001b[39mitem()\n",
      "File \u001b[0;32m~/anaconda3/envs/pytorch/lib/python3.11/site-packages/torch/nn/modules/module.py:1553\u001b[0m, in \u001b[0;36mModule._wrapped_call_impl\u001b[0;34m(self, *args, **kwargs)\u001b[0m\n\u001b[1;32m   1551\u001b[0m     \u001b[38;5;28;01mreturn\u001b[39;00m \u001b[38;5;28mself\u001b[39m\u001b[38;5;241m.\u001b[39m_compiled_call_impl(\u001b[38;5;241m*\u001b[39margs, \u001b[38;5;241m*\u001b[39m\u001b[38;5;241m*\u001b[39mkwargs)  \u001b[38;5;66;03m# type: ignore[misc]\u001b[39;00m\n\u001b[1;32m   1552\u001b[0m \u001b[38;5;28;01melse\u001b[39;00m:\n\u001b[0;32m-> 1553\u001b[0m     \u001b[38;5;28;01mreturn\u001b[39;00m \u001b[38;5;28;43mself\u001b[39;49m\u001b[38;5;241;43m.\u001b[39;49m\u001b[43m_call_impl\u001b[49m\u001b[43m(\u001b[49m\u001b[38;5;241;43m*\u001b[39;49m\u001b[43margs\u001b[49m\u001b[43m,\u001b[49m\u001b[43m \u001b[49m\u001b[38;5;241;43m*\u001b[39;49m\u001b[38;5;241;43m*\u001b[39;49m\u001b[43mkwargs\u001b[49m\u001b[43m)\u001b[49m\n",
      "File \u001b[0;32m~/anaconda3/envs/pytorch/lib/python3.11/site-packages/torch/nn/modules/module.py:1562\u001b[0m, in \u001b[0;36mModule._call_impl\u001b[0;34m(self, *args, **kwargs)\u001b[0m\n\u001b[1;32m   1557\u001b[0m \u001b[38;5;66;03m# If we don't have any hooks, we want to skip the rest of the logic in\u001b[39;00m\n\u001b[1;32m   1558\u001b[0m \u001b[38;5;66;03m# this function, and just call forward.\u001b[39;00m\n\u001b[1;32m   1559\u001b[0m \u001b[38;5;28;01mif\u001b[39;00m \u001b[38;5;129;01mnot\u001b[39;00m (\u001b[38;5;28mself\u001b[39m\u001b[38;5;241m.\u001b[39m_backward_hooks \u001b[38;5;129;01mor\u001b[39;00m \u001b[38;5;28mself\u001b[39m\u001b[38;5;241m.\u001b[39m_backward_pre_hooks \u001b[38;5;129;01mor\u001b[39;00m \u001b[38;5;28mself\u001b[39m\u001b[38;5;241m.\u001b[39m_forward_hooks \u001b[38;5;129;01mor\u001b[39;00m \u001b[38;5;28mself\u001b[39m\u001b[38;5;241m.\u001b[39m_forward_pre_hooks\n\u001b[1;32m   1560\u001b[0m         \u001b[38;5;129;01mor\u001b[39;00m _global_backward_pre_hooks \u001b[38;5;129;01mor\u001b[39;00m _global_backward_hooks\n\u001b[1;32m   1561\u001b[0m         \u001b[38;5;129;01mor\u001b[39;00m _global_forward_hooks \u001b[38;5;129;01mor\u001b[39;00m _global_forward_pre_hooks):\n\u001b[0;32m-> 1562\u001b[0m     \u001b[38;5;28;01mreturn\u001b[39;00m \u001b[43mforward_call\u001b[49m\u001b[43m(\u001b[49m\u001b[38;5;241;43m*\u001b[39;49m\u001b[43margs\u001b[49m\u001b[43m,\u001b[49m\u001b[43m \u001b[49m\u001b[38;5;241;43m*\u001b[39;49m\u001b[38;5;241;43m*\u001b[39;49m\u001b[43mkwargs\u001b[49m\u001b[43m)\u001b[49m\n\u001b[1;32m   1564\u001b[0m \u001b[38;5;28;01mtry\u001b[39;00m:\n\u001b[1;32m   1565\u001b[0m     result \u001b[38;5;241m=\u001b[39m \u001b[38;5;28;01mNone\u001b[39;00m\n",
      "Cell \u001b[0;32mIn[7], line 23\u001b[0m, in \u001b[0;36mART.forward\u001b[0;34m(self, target, predict)\u001b[0m\n\u001b[1;32m     22\u001b[0m \u001b[38;5;28;01mdef\u001b[39;00m \u001b[38;5;21mforward\u001b[39m(\u001b[38;5;28mself\u001b[39m,target,predict):\n\u001b[0;32m---> 23\u001b[0m     loss\u001b[38;5;241m=\u001b[39m\u001b[38;5;28;43mself\u001b[39;49m\u001b[38;5;241;43m.\u001b[39;49m\u001b[43mloss\u001b[49m\u001b[43m(\u001b[49m\u001b[43mpredict\u001b[49m\u001b[43m,\u001b[49m\u001b[43mtarget\u001b[49m\u001b[43m)\u001b[49m\n\u001b[1;32m     24\u001b[0m     predict\u001b[38;5;241m=\u001b[39mpredict\u001b[38;5;241m+\u001b[39mloss\u001b[38;5;241m*\u001b[39m\u001b[38;5;241m0.1\u001b[39m\n\u001b[1;32m     25\u001b[0m     \u001b[38;5;28;01mreturn\u001b[39;00m predict,loss\n",
      "Cell \u001b[0;32mIn[7], line 19\u001b[0m, in \u001b[0;36mART.loss\u001b[0;34m(self, predict, target)\u001b[0m\n\u001b[1;32m     18\u001b[0m \u001b[38;5;28;01mdef\u001b[39;00m \u001b[38;5;21mloss\u001b[39m(\u001b[38;5;28mself\u001b[39m,predict,target):\n\u001b[0;32m---> 19\u001b[0m     ATA\u001b[38;5;241m=\u001b[39m\u001b[38;5;28mself\u001b[39m\u001b[38;5;241m.\u001b[39mAT(\u001b[38;5;28;43mself\u001b[39;49m\u001b[38;5;241;43m.\u001b[39;49m\u001b[43mA\u001b[49m\u001b[43m(\u001b[49m\u001b[43mtorch\u001b[49m\u001b[38;5;241;43m.\u001b[39;49m\u001b[43mones_like\u001b[49m\u001b[43m(\u001b[49m\u001b[43mtarget\u001b[49m\u001b[43m)\u001b[49m\u001b[43m)\u001b[49m)\n\u001b[1;32m     20\u001b[0m     \u001b[38;5;28;01mreturn\u001b[39;00m torch\u001b[38;5;241m.\u001b[39mdivide(\u001b[38;5;28mself\u001b[39m\u001b[38;5;241m.\u001b[39mAT(target \u001b[38;5;241m-\u001b[39m \u001b[38;5;28mself\u001b[39m\u001b[38;5;241m.\u001b[39mA(predict)), ATA)\n",
      "Cell \u001b[0;32mIn[7], line 13\u001b[0m, in \u001b[0;36mART.A\u001b[0;34m(self, tomography)\u001b[0m\n\u001b[1;32m     12\u001b[0m \u001b[38;5;28;01mdef\u001b[39;00m \u001b[38;5;21mA\u001b[39m(\u001b[38;5;28mself\u001b[39m,tomography):\n\u001b[0;32m---> 13\u001b[0m     \u001b[38;5;28;01mreturn\u001b[39;00m \u001b[38;5;28;43mself\u001b[39;49m\u001b[38;5;241;43m.\u001b[39;49m\u001b[43mradon_func\u001b[49m\u001b[38;5;241;43m.\u001b[39;49m\u001b[43mforward\u001b[49m\u001b[43m(\u001b[49m\u001b[43mtomography\u001b[49m\u001b[43m)\u001b[49m\n",
      "File \u001b[0;32m~/anaconda3/envs/pytorch/lib/python3.11/site-packages/torch_radon-1.0.0-py3.11-linux-x86_64.egg/torch_radon/utils.py:30\u001b[0m, in \u001b[0;36mnormalize_shape.<locals>.wrap.<locals>.wrapped\u001b[0;34m(self, x, *args, **kwargs)\u001b[0m\n\u001b[1;32m     27\u001b[0m \u001b[38;5;28;01mdef\u001b[39;00m \u001b[38;5;21mwrapped\u001b[39m(\u001b[38;5;28mself\u001b[39m, x, \u001b[38;5;241m*\u001b[39margs, \u001b[38;5;241m*\u001b[39m\u001b[38;5;241m*\u001b[39mkwargs):\n\u001b[1;32m     28\u001b[0m     x, old_shape \u001b[38;5;241m=\u001b[39m _normalize_shape(x, d)\n\u001b[0;32m---> 30\u001b[0m     y \u001b[38;5;241m=\u001b[39m \u001b[43mf\u001b[49m\u001b[43m(\u001b[49m\u001b[38;5;28;43mself\u001b[39;49m\u001b[43m,\u001b[49m\u001b[43m \u001b[49m\u001b[43mx\u001b[49m\u001b[43m,\u001b[49m\u001b[43m \u001b[49m\u001b[38;5;241;43m*\u001b[39;49m\u001b[43margs\u001b[49m\u001b[43m,\u001b[49m\u001b[43m \u001b[49m\u001b[38;5;241;43m*\u001b[39;49m\u001b[38;5;241;43m*\u001b[39;49m\u001b[43mkwargs\u001b[49m\u001b[43m)\u001b[49m\n\u001b[1;32m     32\u001b[0m     \u001b[38;5;28;01mreturn\u001b[39;00m _unnormalize_shape(y, old_shape)\n",
      "File \u001b[0;32m~/anaconda3/envs/pytorch/lib/python3.11/site-packages/torch_radon-1.0.0-py3.11-linux-x86_64.egg/torch_radon/__init__.py:63\u001b[0m, in \u001b[0;36mBaseRadon.forward\u001b[0;34m(self, x)\u001b[0m\n\u001b[1;32m     55\u001b[0m \u001b[38;5;129m@normalize_shape\u001b[39m(\u001b[38;5;241m2\u001b[39m)\n\u001b[1;32m     56\u001b[0m \u001b[38;5;28;01mdef\u001b[39;00m \u001b[38;5;21mforward\u001b[39m(\u001b[38;5;28mself\u001b[39m, x):\n\u001b[1;32m     57\u001b[0m \u001b[38;5;250m    \u001b[39m\u001b[38;5;124mr\u001b[39m\u001b[38;5;124;03m\"\"\"Radon forward projection.\u001b[39;00m\n\u001b[1;32m     58\u001b[0m \n\u001b[1;32m     59\u001b[0m \u001b[38;5;124;03m    :param x: PyTorch GPU tensor with shape :math:`(d_1, \\dots, d_n, r, r)` where :math:`r` is the :attr:`resolution`\u001b[39;00m\n\u001b[1;32m     60\u001b[0m \u001b[38;5;124;03m        given to the constructor of this class.\u001b[39;00m\n\u001b[1;32m     61\u001b[0m \u001b[38;5;124;03m    :returns: PyTorch GPU tensor containing sinograms. Has shape :math:`(d_1, \\dots, d_n, len(angles), det\\_count)`.\u001b[39;00m\n\u001b[1;32m     62\u001b[0m \u001b[38;5;124;03m    \"\"\"\u001b[39;00m\n\u001b[0;32m---> 63\u001b[0m     x \u001b[38;5;241m=\u001b[39m \u001b[38;5;28;43mself\u001b[39;49m\u001b[38;5;241;43m.\u001b[39;49m\u001b[43m_check_input\u001b[49m\u001b[43m(\u001b[49m\u001b[43mx\u001b[49m\u001b[43m,\u001b[49m\u001b[43m \u001b[49m\u001b[43msquare\u001b[49m\u001b[38;5;241;43m=\u001b[39;49m\u001b[38;5;28;43;01mTrue\u001b[39;49;00m\u001b[43m)\u001b[49m\n\u001b[1;32m     64\u001b[0m     \u001b[38;5;28mself\u001b[39m\u001b[38;5;241m.\u001b[39m_move_parameters_to_device(x\u001b[38;5;241m.\u001b[39mdevice)\n\u001b[1;32m     66\u001b[0m     \u001b[38;5;28;01mreturn\u001b[39;00m RadonForward\u001b[38;5;241m.\u001b[39mapply(x, \u001b[38;5;28mself\u001b[39m\u001b[38;5;241m.\u001b[39mangles, \u001b[38;5;28mself\u001b[39m\u001b[38;5;241m.\u001b[39mtex_cache, \u001b[38;5;28mself\u001b[39m\u001b[38;5;241m.\u001b[39mrays_cfg)\n",
      "File \u001b[0;32m~/anaconda3/envs/pytorch/lib/python3.11/site-packages/torch_radon-1.0.0-py3.11-linux-x86_64.egg/torch_radon/__init__.py:47\u001b[0m, in \u001b[0;36mBaseRadon._check_input\u001b[0;34m(self, x, square)\u001b[0m\n\u001b[1;32m     44\u001b[0m     x \u001b[38;5;241m=\u001b[39m x\u001b[38;5;241m.\u001b[39mcontiguous()\n\u001b[1;32m     46\u001b[0m \u001b[38;5;28;01mif\u001b[39;00m square:\n\u001b[0;32m---> 47\u001b[0m     \u001b[38;5;28;01massert\u001b[39;00m x\u001b[38;5;241m.\u001b[39msize(\u001b[38;5;241m1\u001b[39m) \u001b[38;5;241m==\u001b[39m x\u001b[38;5;241m.\u001b[39msize(\u001b[38;5;241m2\u001b[39m), \u001b[38;5;124mf\u001b[39m\u001b[38;5;124m\"\u001b[39m\u001b[38;5;124mInput images must be square, got shape (\u001b[39m\u001b[38;5;132;01m{\u001b[39;00mx\u001b[38;5;241m.\u001b[39msize(\u001b[38;5;241m1\u001b[39m)\u001b[38;5;132;01m}\u001b[39;00m\u001b[38;5;124m, \u001b[39m\u001b[38;5;132;01m{\u001b[39;00mx\u001b[38;5;241m.\u001b[39msize(\u001b[38;5;241m2\u001b[39m)\u001b[38;5;132;01m}\u001b[39;00m\u001b[38;5;124m).\u001b[39m\u001b[38;5;124m\"\u001b[39m\n\u001b[1;32m     49\u001b[0m \u001b[38;5;28;01mif\u001b[39;00m x\u001b[38;5;241m.\u001b[39mdtype \u001b[38;5;241m==\u001b[39m torch\u001b[38;5;241m.\u001b[39mfloat16:\n\u001b[1;32m     50\u001b[0m     \u001b[38;5;28;01massert\u001b[39;00m x\u001b[38;5;241m.\u001b[39msize(\n\u001b[1;32m     51\u001b[0m         \u001b[38;5;241m0\u001b[39m) \u001b[38;5;241m%\u001b[39m \u001b[38;5;241m4\u001b[39m \u001b[38;5;241m==\u001b[39m \u001b[38;5;241m0\u001b[39m, \u001b[38;5;124mf\u001b[39m\u001b[38;5;124m\"\u001b[39m\u001b[38;5;124mBatch size must be multiple of 4 when using half precision. Got batch size \u001b[39m\u001b[38;5;132;01m{\u001b[39;00mx\u001b[38;5;241m.\u001b[39msize(\u001b[38;5;241m0\u001b[39m)\u001b[38;5;132;01m}\u001b[39;00m\u001b[38;5;124m\"\u001b[39m\n",
      "\u001b[0;31mAssertionError\u001b[0m: Input images must be square, got shape (371, 360)."
     ]
    }
   ],
   "source": [
    "model=ART(sinogram).to(device)\n",
    "predicted_array=trainer(model,dataloarders_dict,eps=1e-10)\n",
    "print(predicted_array.shape)"
   ]
  },
  {
   "cell_type": "code",
   "execution_count": null,
   "metadata": {},
   "outputs": [
    {
     "data": {
      "text/plain": [
       "<matplotlib.image.AxesImage at 0x7f704f9c62d0>"
      ]
     },
     "execution_count": 6,
     "metadata": {},
     "output_type": "execute_result"
    },
    {
     "data": {
      "image/png": "[encoded data removed]",
      "text/plain": [
       "<Figure size 640x480 with 1 Axes>"
      ]
     },
     "metadata": {},
     "output_type": "display_data"
    }
   ],
   "source": [
    "plt.imshow(predicted_array[0,:,180,:])"
   ]
  }
 ],
 "metadata": {
  "kernelspec": {
   "display_name": "pytorch",
   "language": "python",
   "name": "python3"
  },
  "language_info": {
   "codemirror_mode": {
    "name": "ipython",
    "version": 3
   },
   "file_extension": ".py",
   "mimetype": "text/x-python",
   "name": "python",
   "nbconvert_exporter": "python",
   "pygments_lexer": "ipython3",
   "version": "3.11.9"
  }
 },
 "nbformat": 4,
 "nbformat_minor": 2
}
