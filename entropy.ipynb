{
 "cells": [
  {
   "cell_type": "code",
   "execution_count": 4,
   "metadata": {},
   "outputs": [],
   "source": [
    "import numpy as np\n",
    "\n",
    "def normalize_array(ndarray):\n",
    "    # ndarrayの最小値と最大値を計算\n",
    "    min_val = np.min(ndarray)\n",
    "    max_val = np.max(ndarray)\n",
    "\n",
    "    # 0-1の範囲に正規化\n",
    "    normalized = (ndarray - min_val) / (max_val - min_val)\n",
    "    return normalized\n",
    "\n",
    "def calculate_entropy(ndarray):\n",
    "    normalized_array=normalize_array(ndarray)\n",
    "    # Flatten the array to 1D\n",
    "    normalized_array_p=normalized_array/np.sum(normalized_array)\n",
    "    normalized_array_p=normalized_array_p[normalized_array_p>0]\n",
    "    # Calculate entropy\n",
    "    entropy = -np.sum(normalized_array_p * np.log2(normalized_array_p))\n",
    "    return entropy"
   ]
  },
  {
   "cell_type": "code",
   "execution_count": 5,
   "metadata": {},
   "outputs": [
    {
     "name": "stdout",
     "output_type": "stream",
     "text": [
      "Entropy: 26.191648483276367\n"
     ]
    }
   ],
   "source": [
    "# Example usage with a 3D ndarray\n",
    "ndarray = np.load(\"reconstructed/reconstructed2410_res9.npy\",allow_pickle=True)\n",
    "entropy = calculate_entropy(ndarray)\n",
    "print(f\"Entropy: {entropy}\")"
   ]
  }
 ],
 "metadata": {
  "kernelspec": {
   "display_name": "pytorch",
   "language": "python",
   "name": "python3"
  },
  "language_info": {
   "codemirror_mode": {
    "name": "ipython",
    "version": 3
   },
   "file_extension": ".py",
   "mimetype": "text/x-python",
   "name": "python",
   "nbconvert_exporter": "python",
   "pygments_lexer": "ipython3",
   "version": "3.11.9"
  }
 },
 "nbformat": 4,
 "nbformat_minor": 2
}
