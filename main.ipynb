{
 "cells": [
  {
   "cell_type": "markdown",
   "metadata": {},
   "source": [
    "# import"
   ]
  },
  {
   "cell_type": "code",
   "execution_count": null,
   "metadata": {},
   "outputs": [],
   "source": [
    "import os\n",
    "import pickle\n",
    "from multiprocessing import Pool\n",
    "\n",
    "import torch                                       # pytorch本体\n",
    "import torch.nn as nn                              # ニューラルネットを構成する際の基本的なモジュールが入っている\n",
    "import torch.optim as optim                        # ニューラルネットを最適化するためのoptimizerが入っている\n",
    "from torchvision import transforms as transforms   # 画像前処理のために使用\n",
    "import torchvision.transforms.functional as TF\n",
    "import torchvision.models as models\n",
    "import torch.nn.functional as F\n",
    "\n",
    "from torch.utils.tensorboard import SummaryWriter  # 学習ログのグラフ化のために使用\n",
    "\n",
    "import logging                                     # ニューラルネットの学習ログをとるために使用\n",
    "logger = logging.getLogger(__name__)               # ロガーの初期化\n",
    "\n",
    "from tqdm import tqdm,trange                              # プログレスバーを出すために使用\n",
    "\n",
    "import numpy as np\n",
    "from PIL import Image                              # 画像を取り扱うために使用\n",
    "import matplotlib.pyplot as plt                    # 画像のサンプル表示のために使用\n",
    "import cv2\n",
    "import cupy as cp"
   ]
  },
  {
   "cell_type": "markdown",
   "metadata": {},
   "source": [
    "# dataのロードとdataloarderの作成"
   ]
  },
  {
   "cell_type": "code",
   "execution_count": null,
   "metadata": {},
   "outputs": [],
   "source": []
  }
 ],
 "metadata": {
  "kernelspec": {
   "display_name": "pytorch",
   "language": "python",
   "name": "python3"
  },
  "language_info": {
   "name": "python",
   "version": "3.11.9"
  }
 },
 "nbformat": 4,
 "nbformat_minor": 2
}
